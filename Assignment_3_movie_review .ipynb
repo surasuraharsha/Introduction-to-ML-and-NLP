{
 "cells": [
  {
   "cell_type": "code",
   "execution_count": 1,
   "id": "061a32d3",
   "metadata": {},
   "outputs": [
    {
     "name": "stderr",
     "output_type": "stream",
     "text": [
      "C:\\Users\\harsh\\anaconda3\\envs\\hf-pipeline\\lib\\site-packages\\tqdm\\auto.py:21: TqdmWarning: IProgress not found. Please update jupyter and ipywidgets. See https://ipywidgets.readthedocs.io/en/stable/user_install.html\n",
      "  from .autonotebook import tqdm as notebook_tqdm\n"
     ]
    }
   ],
   "source": [
    "# Importing all required Libraries\n",
    "import torch\n",
    "from datasets import load_dataset\n",
    "from transformers import (\n",
    "    BertTokenizer,\n",
    "    BertForSequenceClassification,\n",
    "    DataCollatorWithPadding,\n",
    "    Trainer,\n",
    "    TrainingArguments\n",
    ")\n",
    "from sklearn.metrics import accuracy_score, f1_score\n",
    "from datasets import Dataset, DatasetDict\n",
    "from torch.nn import CrossEntropyLoss\n",
    "from collections import Counter"
   ]
  },
  {
   "cell_type": "code",
   "execution_count": 2,
   "id": "4c3f09d7",
   "metadata": {},
   "outputs": [],
   "source": [
    "#Loading the dataset from the \"imbd\"\n",
    "\n",
    "dataset = load_dataset(\"imdb\")"
   ]
  },
  {
   "cell_type": "code",
   "execution_count": 3,
   "id": "5f6510ec",
   "metadata": {},
   "outputs": [
    {
     "name": "stderr",
     "output_type": "stream",
     "text": [
      "Filter: 100%|██████████| 25000/25000 [00:00<00:00, 108694.97 examples/s]\n",
      "Filter: 100%|██████████| 25000/25000 [00:00<00:00, 125849.10 examples/s]\n"
     ]
    }
   ],
   "source": [
    "# Training and validating the dataset\n",
    "train_data = dataset[\"train\"].shuffle(seed=42)\n",
    "positive_train = train_data.filter(lambda x: x[\"label\"] == 1).select(range(500))\n",
    "negative_train = train_data.filter(lambda x: x[\"label\"] == 0).select(range(500))\n",
    "balanced_train = Dataset.from_dict(\n",
    "    {k: positive_train[k] + negative_train[k] for k in positive_train.features}\n",
    ")\n",
    "\n",
    "\n",
    "test_data = dataset[\"test\"].shuffle(seed=42)\n",
    "positive_test = test_data.filter(lambda x: x[\"label\"] == 1).select(range(250))\n",
    "negative_test = test_data.filter(lambda x: x[\"label\"] == 0).select(range(250))\n",
    "balanced_test = Dataset.from_dict(\n",
    "    {k: positive_test[k] + negative_test[k] for k in positive_test.features}\n",
    ")"
   ]
  },
  {
   "cell_type": "code",
   "execution_count": 5,
   "id": "286f7f0b",
   "metadata": {},
   "outputs": [
    {
     "name": "stdout",
     "output_type": "stream",
     "text": [
      "Training labels: Counter({1: 500, 0: 500})\n",
      "Validation labels: Counter({1: 250, 0: 250})\n"
     ]
    }
   ],
   "source": [
    "\n",
    "dataset = DatasetDict({\"train\": balanced_train, \"test\": balanced_test})\n",
    "\n",
    "# Converting the lable column to \"labels\"\n",
    "dataset = dataset.rename_column(\"label\", \"labels\")\n",
    "\n",
    "# Checking the Training labels and validation labels\n",
    "print(\"Training labels:\", Counter(dataset[\"train\"][\"labels\"]))\n",
    "print(\"Validation labels:\", Counter(dataset[\"test\"][\"labels\"]))"
   ]
  },
  {
   "cell_type": "code",
   "execution_count": 6,
   "id": "2577c1e4",
   "metadata": {},
   "outputs": [
    {
     "name": "stderr",
     "output_type": "stream",
     "text": [
      "Map: 100%|██████████| 1000/1000 [00:06<00:00, 142.97 examples/s]\n",
      "Map: 100%|██████████| 500/500 [00:02<00:00, 188.14 examples/s]\n"
     ]
    }
   ],
   "source": [
    "tokenizer = BertTokenizer.from_pretrained(\"bert-base-uncased\")\n",
    "\n",
    "def tokenize_function(example):\n",
    "    return tokenizer(example[\"text\"], truncation=True)\n",
    "\n",
    "tokenized_datasets = dataset.map(tokenize_function, batched=True)\n",
    "tokenized_datasets.set_format(\"torch\", columns=[\"input_ids\", \"attention_mask\", \"token_type_ids\", \"labels\"])"
   ]
  },
  {
   "cell_type": "code",
   "execution_count": 7,
   "id": "af65e54c",
   "metadata": {},
   "outputs": [
    {
     "name": "stderr",
     "output_type": "stream",
     "text": [
      "Some weights of BertForSequenceClassification were not initialized from the model checkpoint at bert-base-uncased and are newly initialized: ['classifier.bias', 'classifier.weight']\n",
      "You should probably TRAIN this model on a down-stream task to be able to use it for predictions and inference.\n"
     ]
    }
   ],
   "source": [
    "# Loading the BERT model\n",
    "model = BertForSequenceClassification.from_pretrained(\"bert-base-uncased\", num_labels=2)"
   ]
  },
  {
   "cell_type": "code",
   "execution_count": 8,
   "id": "21d4d517",
   "metadata": {},
   "outputs": [],
   "source": [
    "data_collator = DataCollatorWithPadding(tokenizer=tokenizer)"
   ]
  },
  {
   "cell_type": "code",
   "execution_count": 9,
   "id": "9dbfca7b",
   "metadata": {},
   "outputs": [],
   "source": [
    "# Function to check the accuracy and F1 Score\n",
    "def compute_metrics(eval_pred):\n",
    "    logits, labels = eval_pred\n",
    "    predictions = torch.argmax(torch.tensor(logits), dim=-1).numpy()\n",
    "    labels = labels.numpy() if isinstance(labels, torch.Tensor) else labels\n",
    "    return {\n",
    "        \"accuracy\": accuracy_score(labels, predictions),\n",
    "        \"f1\": f1_score(labels, predictions, zero_division=0)\n",
    "    }"
   ]
  },
  {
   "cell_type": "code",
   "execution_count": 10,
   "id": "341bc999",
   "metadata": {},
   "outputs": [
    {
     "name": "stderr",
     "output_type": "stream",
     "text": [
      "C:\\Users\\harsh\\anaconda3\\envs\\hf-pipeline\\lib\\site-packages\\transformers\\training_args.py:1604: FutureWarning: using `no_cuda` is deprecated and will be removed in version 5.0 of 🤗 Transformers. Use `use_cpu` instead\n",
      "  warnings.warn(\n"
     ]
    }
   ],
   "source": [
    "# Training all the arguments\n",
    "training_args = TrainingArguments(\n",
    "    output_dir=\"./results\",\n",
    "    eval_strategy=\"epoch\",\n",
    "    save_strategy=\"epoch\",\n",
    "    num_train_epochs=3,\n",
    "    per_device_train_batch_size=8,\n",
    "    per_device_eval_batch_size=8,\n",
    "    learning_rate=2e-5,\n",
    "    warmup_steps=100,\n",
    "    logging_dir=\"./logs\",\n",
    "    logging_steps=10,\n",
    "    load_best_model_at_end=True,\n",
    "    metric_for_best_model=\"accuracy\",\n",
    "    greater_is_better=True,\n",
    "    no_cuda=True\n",
    ")"
   ]
  },
  {
   "cell_type": "code",
   "execution_count": 12,
   "id": "9280d483",
   "metadata": {},
   "outputs": [],
   "source": [
    "# Function to Train with class weights\n",
    "class CustomTrainer(Trainer):\n",
    "    def compute_loss(self, model, inputs, return_outputs=False, num_items_in_batch=None):\n",
    "        labels = inputs.get(\"labels\")\n",
    "        outputs = model(**inputs)\n",
    "        logits = outputs.get(\"logits\")\n",
    "        class_weights = torch.tensor([1.0, 1.0]).to(model.device)  # Adjust if imbalanced\n",
    "        loss_fct = CrossEntropyLoss(weight=class_weights)\n",
    "        loss = loss_fct(logits.view(-1, self.model.config.num_labels), labels.view(-1))\n",
    "        return (loss, outputs) if return_outputs else loss"
   ]
  },
  {
   "cell_type": "code",
   "execution_count": 14,
   "id": "ebf0ab99",
   "metadata": {},
   "outputs": [
    {
     "name": "stderr",
     "output_type": "stream",
     "text": [
      "C:\\Users\\harsh\\AppData\\Local\\Temp\\ipykernel_3292\\3185618906.py:2: FutureWarning: `tokenizer` is deprecated and will be removed in version 5.0.0 for `CustomTrainer.__init__`. Use `processing_class` instead.\n",
      "  trainer = CustomTrainer(\n"
     ]
    }
   ],
   "source": [
    "# Setting the training and testing range of labels\n",
    "trainer = CustomTrainer(\n",
    "    model=model,\n",
    "    args=training_args,\n",
    "    train_dataset=tokenized_datasets[\"train\"].shuffle(seed=42).select(range(1000)),\n",
    "    eval_dataset=tokenized_datasets[\"test\"].select(range(500)),\n",
    "    tokenizer=tokenizer,\n",
    "    data_collator=data_collator,\n",
    "    compute_metrics=compute_metrics,\n",
    ")"
   ]
  },
  {
   "cell_type": "code",
   "execution_count": 15,
   "id": "49d6592e",
   "metadata": {},
   "outputs": [
    {
     "data": {
      "text/html": [
       "\n",
       "    <div>\n",
       "      \n",
       "      <progress value='375' max='375' style='width:300px; height:20px; vertical-align: middle;'></progress>\n",
       "      [375/375 2:09:42, Epoch 3/3]\n",
       "    </div>\n",
       "    <table border=\"1\" class=\"dataframe\">\n",
       "  <thead>\n",
       " <tr style=\"text-align: left;\">\n",
       "      <th>Epoch</th>\n",
       "      <th>Training Loss</th>\n",
       "      <th>Validation Loss</th>\n",
       "      <th>Accuracy</th>\n",
       "      <th>F1</th>\n",
       "    </tr>\n",
       "  </thead>\n",
       "  <tbody>\n",
       "    <tr>\n",
       "      <td>1</td>\n",
       "      <td>0.374600</td>\n",
       "      <td>0.351790</td>\n",
       "      <td>0.870000</td>\n",
       "      <td>0.877127</td>\n",
       "    </tr>\n",
       "    <tr>\n",
       "      <td>2</td>\n",
       "      <td>0.334500</td>\n",
       "      <td>0.314160</td>\n",
       "      <td>0.898000</td>\n",
       "      <td>0.901734</td>\n",
       "    </tr>\n",
       "    <tr>\n",
       "      <td>3</td>\n",
       "      <td>0.120400</td>\n",
       "      <td>0.349927</td>\n",
       "      <td>0.904000</td>\n",
       "      <td>0.906250</td>\n",
       "    </tr>\n",
       "  </tbody>\n",
       "</table><p>"
      ],
      "text/plain": [
       "<IPython.core.display.HTML object>"
      ]
     },
     "metadata": {},
     "output_type": "display_data"
    },
    {
     "data": {
      "text/plain": [
       "TrainOutput(global_step=375, training_loss=0.3316861193180084, metrics={'train_runtime': 7801.3883, 'train_samples_per_second': 0.385, 'train_steps_per_second': 0.048, 'total_flos': 733734511194240.0, 'train_loss': 0.3316861193180084, 'epoch': 3.0})"
      ]
     },
     "execution_count": 15,
     "metadata": {},
     "output_type": "execute_result"
    }
   ],
   "source": [
    "# Training the model\n",
    "trainer.train()"
   ]
  },
  {
   "cell_type": "code",
   "execution_count": 16,
   "id": "b2629285",
   "metadata": {},
   "outputs": [
    {
     "data": {
      "text/plain": [
       "('./sentiment-model\\\\tokenizer_config.json',\n",
       " './sentiment-model\\\\special_tokens_map.json',\n",
       " './sentiment-model\\\\vocab.txt',\n",
       " './sentiment-model\\\\added_tokens.json')"
      ]
     },
     "execution_count": 16,
     "metadata": {},
     "output_type": "execute_result"
    }
   ],
   "source": [
    "# Saving the Model\n",
    "model.save_pretrained(\"./sentiment-model\")\n",
    "tokenizer.save_pretrained(\"./sentiment-model\")"
   ]
  },
  {
   "cell_type": "code",
   "execution_count": 17,
   "id": "2bef7db3",
   "metadata": {},
   "outputs": [
    {
     "name": "stderr",
     "output_type": "stream",
     "text": [
      "Device set to use cpu\n"
     ]
    },
    {
     "name": "stdout",
     "output_type": "stream",
     "text": [
      "[{'label': 'LABEL_1', 'score': 0.9899222254753113}]\n",
      "[{'label': 'LABEL_0', 'score': 0.9911323189735413}]\n"
     ]
    },
    {
     "data": {
      "text/html": [],
      "text/plain": [
       "<IPython.core.display.HTML object>"
      ]
     },
     "metadata": {},
     "output_type": "display_data"
    },
    {
     "name": "stdout",
     "output_type": "stream",
     "text": [
      "Prediction distribution: Counter({np.int64(1): 262, np.int64(0): 238})\n"
     ]
    }
   ],
   "source": [
    "# Testing the Examples and checking the prediction\n",
    "\n",
    "from transformers import pipeline\n",
    "sentiment_pipeline = pipeline(\"sentiment-analysis\", model=\"./sentiment-model\", tokenizer=\"./sentiment-model\")\n",
    "\n",
    "print(sentiment_pipeline(\"This movie was absolutely amazing!\"))\n",
    "print(sentiment_pipeline(\"The plot was dull and the acting was terrible.\"))\n",
    "\n",
    "# Check prediction distribution\n",
    "eval_results = trainer.predict(tokenized_datasets[\"test\"].select(range(500)))\n",
    "predictions = torch.argmax(torch.tensor(eval_results.predictions), dim=-1).numpy()\n",
    "print(\"Prediction distribution:\", Counter(predictions))"
   ]
  },
  {
   "cell_type": "code",
   "execution_count": null,
   "id": "d83719e9",
   "metadata": {},
   "outputs": [],
   "source": [
    "# Here in output the LABEL_1 tells the prediction of review is positive and Label_0 tells the prediction of review is negative\n",
    "# Here the score represents the confidence of the review"
   ]
  },
  {
   "cell_type": "code",
   "execution_count": null,
   "id": "0c9157ac",
   "metadata": {},
   "outputs": [],
   "source": []
  }
 ],
 "metadata": {
  "kernelspec": {
   "display_name": "hf-pipeline",
   "language": "python",
   "name": "hf-pipeline"
  },
  "language_info": {
   "codemirror_mode": {
    "name": "ipython",
    "version": 3
   },
   "file_extension": ".py",
   "mimetype": "text/x-python",
   "name": "python",
   "nbconvert_exporter": "python",
   "pygments_lexer": "ipython3",
   "version": "3.10.18"
  }
 },
 "nbformat": 4,
 "nbformat_minor": 5
}
