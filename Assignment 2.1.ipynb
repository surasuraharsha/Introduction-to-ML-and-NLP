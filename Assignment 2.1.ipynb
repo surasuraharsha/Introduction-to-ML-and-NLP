{
 "cells": [
  {
   "cell_type": "code",
   "execution_count": 35,
   "id": "f79902e4",
   "metadata": {},
   "outputs": [],
   "source": [
    "import math\n",
    "from sklearn.feature_extraction.text import CountVectorizer, TfidfVectorizer\n",
    "\n",
    "# Sample documents\n",
    "corpus= ['the sun is a star',\n",
    "    'the moon is a satellite',\n",
    "    'the sun and moon are celestial bodies'\n",
    "    ]\n"
   ]
  },
  {
   "cell_type": "code",
   "execution_count": 36,
   "id": "8acc940f",
   "metadata": {},
   "outputs": [],
   "source": [
    "# --- Manual TF-IDF ---\n",
    "def compute_tf(doc):\n",
    "    tf = {}\n",
    "    words = doc.lower().split()\n",
    "    for word in words:\n",
    "        tf[word] = tf.get(word, 0) + 1\n",
    "    total_words = len(words)\n",
    "    for word in tf:\n",
    "        tf[word] = tf[word] / total_words\n",
    "    return tf"
   ]
  },
  {
   "cell_type": "code",
   "execution_count": 37,
   "id": "845899e8",
   "metadata": {},
   "outputs": [],
   "source": [
    "\n",
    "def compute_idf(corpus):\n",
    "    N = len(corpus)\n",
    "    idf = {}\n",
    "    all_words = set(word for doc in docs for word in doc.lower().split())\n",
    "    for word in all_words:\n",
    "        containing_docs = sum(1 for doc in docs if word in doc.lower().split())\n",
    "        idf[word] = math.log(N / (1 + containing_docs)) + 1  # Smoothed IDF\n",
    "    return idf"
   ]
  },
  {
   "cell_type": "code",
   "execution_count": 38,
   "id": "8121a41a",
   "metadata": {},
   "outputs": [],
   "source": [
    "def compute_tfidf(corpus):\n",
    "    idf = compute_idf(corpus)\n",
    "    tfidf_docs = []\n",
    "    for doc in corpus:\n",
    "        tf = compute_tf(doc)\n",
    "        tfidf = {word: tf[word] * idf[word] for word in tf}\n",
    "        tfidf_docs.append(tfidf)\n",
    "    return tfidf_docs, idf"
   ]
  },
  {
   "cell_type": "code",
   "execution_count": 39,
   "id": "bcd53c05",
   "metadata": {},
   "outputs": [],
   "source": [
    "#  manual TF-IDF\n",
    "manual_tfidf, manual_idf = compute_tfidf(corpus)"
   ]
  },
  {
   "cell_type": "code",
   "execution_count": 40,
   "id": "089ac78e",
   "metadata": {},
   "outputs": [],
   "source": [
    "\n",
    "# scikit-learn TF-IDF and CountVectorizer \n",
    "count_vec = CountVectorizer()\n",
    "X_count = count_vec.fit_transform(corpus)\n",
    "count_words = count_vec.get_feature_names_out()\n",
    "\n",
    "tfidf_vec = TfidfVectorizer()\n",
    "X_tfidf = tfidf_vec.fit_transform(corpus)\n",
    "tfidf_words = tfidf_vec.get_feature_names_out()"
   ]
  },
  {
   "cell_type": "code",
   "execution_count": 41,
   "id": "4a917aa3",
   "metadata": {},
   "outputs": [
    {
     "name": "stdout",
     "output_type": "stream",
     "text": [
      "Manual TF-IDF (corpus):\n",
      "{'the': 0.14246358550964383, 'sun': 0.2, 'is': 0.2, 'a': 0.2, 'star': 0.2810930216216329}\n"
     ]
    }
   ],
   "source": [
    "# Display results\n",
    "print(\"Manual TF-IDF (corpus):\")\n",
    "print(manual_tfidf[0])\n"
   ]
  },
  {
   "cell_type": "code",
   "execution_count": 42,
   "id": "5ac19292",
   "metadata": {},
   "outputs": [
    {
     "name": "stdout",
     "output_type": "stream",
     "text": [
      "\n",
      "CountVectorizer (corpus):\n",
      "{'and': 0, 'are': 0, 'bodies': 0, 'celestial': 0, 'is': 1, 'moon': 0, 'satellite': 0, 'star': 1, 'sun': 1, 'the': 1}\n"
     ]
    }
   ],
   "source": [
    "\n",
    "print(\"\\nCountVectorizer (corpus):\")\n",
    "print(dict(zip(count_words, X_count.toarray()[0])))\n"
   ]
  },
  {
   "cell_type": "code",
   "execution_count": 43,
   "id": "c0ed264e",
   "metadata": {},
   "outputs": [
    {
     "name": "stdout",
     "output_type": "stream",
     "text": [
      "\n",
      "TfidfVectorizer (corpus):\n",
      "{'and': 0.0, 'are': 0.0, 'bodies': 0.0, 'celestial': 0.0, 'is': 0.4804583972923858, 'moon': 0.0, 'satellite': 0.0, 'star': 0.6317450542765208, 'sun': 0.4804583972923858, 'the': 0.3731188059313277}\n"
     ]
    }
   ],
   "source": [
    "print(\"\\nTfidfVectorizer (corpus):\")\n",
    "print(dict(zip(tfidf_words, X_tfidf.toarray()[0])))\n"
   ]
  },
  {
   "cell_type": "code",
   "execution_count": null,
   "id": "3e8112ef",
   "metadata": {},
   "outputs": [],
   "source": []
  },
  {
   "cell_type": "code",
   "execution_count": null,
   "id": "a5cab32b",
   "metadata": {},
   "outputs": [],
   "source": []
  },
  {
   "cell_type": "code",
   "execution_count": null,
   "id": "6b8e82a3",
   "metadata": {},
   "outputs": [],
   "source": []
  },
  {
   "cell_type": "code",
   "execution_count": null,
   "id": "d16c31db",
   "metadata": {},
   "outputs": [],
   "source": []
  }
 ],
 "metadata": {
  "kernelspec": {
   "display_name": "Python 3 (ipykernel)",
   "language": "python",
   "name": "python3"
  },
  "language_info": {
   "codemirror_mode": {
    "name": "ipython",
    "version": 3
   },
   "file_extension": ".py",
   "mimetype": "text/x-python",
   "name": "python",
   "nbconvert_exporter": "python",
   "pygments_lexer": "ipython3",
   "version": "3.11.3"
  }
 },
 "nbformat": 4,
 "nbformat_minor": 5
}
