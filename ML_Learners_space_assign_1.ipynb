{
 "cells": [
  {
   "cell_type": "code",
   "execution_count": null,
   "id": "9f0a6ffc",
   "metadata": {},
   "outputs": [],
   "source": [
    "\n",
    "import numpy as np\n",
    "import pandas as pd"
   ]
  },
  {
   "cell_type": "code",
   "execution_count": null,
   "id": "6981b6ea",
   "metadata": {},
   "outputs": [],
   "source": [
    "# Question 1"
   ]
  },
  {
   "cell_type": "code",
   "execution_count": 2,
   "id": "f80bc73c",
   "metadata": {},
   "outputs": [
    {
     "name": "stdout",
     "output_type": "stream",
     "text": [
      "Original Array:\n",
      " [[45 48  1  4]\n",
      " [ 4 40 10 20]\n",
      " [22 37 24  7]\n",
      " [25 25 13  2]\n",
      " [39 40 24 47]]\n"
     ]
    }
   ],
   "source": [
    "# 1. Generate a 2D NumPy array of shape (5, 4) \n",
    "np.random.seed(0)\n",
    "arr = np.random.randint(1, 51, size=(5, 4))\n",
    "print(\"Original Array:\\n\", arr)"
   ]
  },
  {
   "cell_type": "code",
   "execution_count": 3,
   "id": "04633081",
   "metadata": {},
   "outputs": [
    {
     "name": "stdout",
     "output_type": "stream",
     "text": [
      "\n",
      "Anti-diagonal elements: [4, 10, 37, 25]\n"
     ]
    }
   ],
   "source": [
    "\n",
    "# 2. Anti-Diagonal Elements(top-right to bottom-left)\n",
    "anti_diagonal = [arr[i, -i-1] for i in range(min(arr.shape))]\n",
    "print(\"\\nAnti-diagonal elements:\", anti_diagonal)"
   ]
  },
  {
   "cell_type": "code",
   "execution_count": 4,
   "id": "743ede81",
   "metadata": {},
   "outputs": [
    {
     "name": "stdout",
     "output_type": "stream",
     "text": [
      "\n",
      "Maximum value in each row: [48 40 37 25 47]\n"
     ]
    }
   ],
   "source": [
    "# 3. Maximum value in each row\n",
    "row_max = np.max(arr, axis=1)\n",
    "print(\"\\nMaximum value in each row:\", row_max)"
   ]
  },
  {
   "cell_type": "code",
   "execution_count": 5,
   "id": "83d12e36",
   "metadata": {},
   "outputs": [
    {
     "name": "stdout",
     "output_type": "stream",
     "text": [
      "\n",
      "Elements <= mean (mean = 23.85 ): [ 1  4  4 10 20 22  7 13  2]\n"
     ]
    }
   ],
   "source": [
    "# 4. Elements that are <=mean\n",
    "mean_value = np.mean(arr)\n",
    "filtered_array = arr[arr <= mean_value]\n",
    "print(\"\\nElements <= mean (mean =\", mean_value, \"):\", filtered_array)"
   ]
  },
  {
   "cell_type": "code",
   "execution_count": 6,
   "id": "4c310429",
   "metadata": {},
   "outputs": [],
   "source": [
    "\n",
    "# 5 Boundary traversal \n",
    "def numpy_boundary_traversal(matrix):\n",
    "    if matrix.ndim != 2:\n",
    "        raise ValueError(\"Input must be a 2D matrix.\")\n",
    "    \n",
    "    rows, cols = matrix.shape\n",
    "    boundary = []\n",
    "\n",
    "    if rows == 1:\n",
    "        boundary.extend(matrix[0, :])\n",
    "    elif cols == 1:\n",
    "        boundary.extend(matrix[:, 0])\n",
    "    else:\n",
    "        boundary.extend(matrix[0, :])\n",
    "   \n",
    "        boundary.extend(matrix[1:rows-1, -1])\n",
    "\n",
    "        boundary.extend(matrix[-1, ::-1])\n",
    "        \n",
    "        boundary.extend(matrix[rows-2:0:-1, 0])\n",
    "\n",
    "    return boundary"
   ]
  },
  {
   "cell_type": "code",
   "execution_count": 7,
   "id": "572302cd",
   "metadata": {},
   "outputs": [
    {
     "name": "stdout",
     "output_type": "stream",
     "text": [
      "\n",
      "Boundary traversal in clockwise order: [45, 48, 1, 4, 20, 7, 2, 47, 24, 40, 39, 25, 22, 4]\n"
     ]
    }
   ],
   "source": [
    "\n",
    "boundary = numpy_boundary_traversal(arr)\n",
    "print(\"\\nBoundary traversal in clockwise order:\", boundary)"
   ]
  },
  {
   "cell_type": "code",
   "execution_count": 8,
   "id": "ea821689",
   "metadata": {},
   "outputs": [],
   "source": [
    "# Question 2"
   ]
  },
  {
   "cell_type": "code",
   "execution_count": 9,
   "id": "c9cbd8f0",
   "metadata": {},
   "outputs": [],
   "source": [
    "import numpy as np"
   ]
  },
  {
   "cell_type": "code",
   "execution_count": 10,
   "id": "0b489522",
   "metadata": {},
   "outputs": [
    {
     "name": "stdout",
     "output_type": "stream",
     "text": [
      "Rounded Array:\n",
      " [4.17 7.2  0.   3.02 1.47 0.92 1.86 3.46 3.97 5.39 4.19 6.85 2.04 8.78\n",
      " 0.27 6.7  4.17 5.59 1.4  1.98]\n"
     ]
    }
   ],
   "source": [
    "# 1. 1D array of 20 numbers\n",
    "np.random.seed(1)  \n",
    "arr = np.random.uniform(0, 10, 20)\n",
    "\n",
    "# Round all elements to two decimal places\n",
    "rounded_arr = np.round(arr, 2)\n",
    "print(\"Rounded Array:\\n\", rounded_arr)"
   ]
  },
  {
   "cell_type": "code",
   "execution_count": 11,
   "id": "c3f0b0d9",
   "metadata": {},
   "outputs": [
    {
     "name": "stdout",
     "output_type": "stream",
     "text": [
      "\n",
      "Minimum: 0.0\n",
      "Maximum: 8.78\n",
      "Median: 3.715\n"
     ]
    }
   ],
   "source": [
    "\n",
    "# 2. Minimum , maximum and median\n",
    "min_val = np.min(rounded_arr)\n",
    "max_val = np.max(rounded_arr)\n",
    "median_val = np.median(rounded_arr)\n",
    "\n",
    "print(\"\\nMinimum:\", min_val)\n",
    "print(\"Maximum:\", max_val)\n",
    "print(\"Median:\", median_val)"
   ]
  },
  {
   "cell_type": "code",
   "execution_count": 12,
   "id": "1040a971",
   "metadata": {},
   "outputs": [
    {
     "name": "stdout",
     "output_type": "stream",
     "text": [
      "\n",
      "Modified Array (elements < 5 squared):\n",
      " [17.39  7.2   0.    9.12  2.16  0.85  3.46 11.97 15.76  5.39 17.56  6.85\n",
      "  4.16  8.78  0.07  6.7  17.39  5.59  1.96  3.92]\n"
     ]
    }
   ],
   "source": [
    "\n",
    "# 3. < 5 with their squares\n",
    "modified_arr = np.where(rounded_arr < 5, np.round(rounded_arr**2, 2), rounded_arr)\n",
    "print(\"\\nModified Array (elements < 5 squared):\\n\", modified_arr)"
   ]
  },
  {
   "cell_type": "code",
   "execution_count": 13,
   "id": "e4982df3",
   "metadata": {},
   "outputs": [
    {
     "name": "stdout",
     "output_type": "stream",
     "text": [
      "\n",
      "Alternate Sorted Array (smallest, largest, ...):\n",
      " [0.   8.78 0.27 7.2  0.92 6.85 1.4  6.7  1.47 5.59 1.86 5.39 1.98 4.19\n",
      " 2.04 4.17 3.02 4.17 3.46 3.97]\n"
     ]
    }
   ],
   "source": [
    "# 4.  sorting of alternating smallest-largest pattern\n",
    "def numpy_alternate_sort(array):\n",
    "    sorted_array = np.sort(array)\n",
    "    result = []\n",
    "    i, j = 0, len(sorted_array) - 1\n",
    "    while i <= j:\n",
    "        result.append(sorted_array[i])\n",
    "        if i != j:\n",
    "            result.append(sorted_array[j])\n",
    "        i += 1\n",
    "        j -= 1\n",
    "    return np.array(result)\n",
    "\n",
    "\n",
    "alternate_sorted_arr = numpy_alternate_sort(rounded_arr)\n",
    "print(\"\\nAlternate Sorted Array (smallest, largest, ...):\\n\", alternate_sorted_arr)\n"
   ]
  },
  {
   "cell_type": "code",
   "execution_count": 14,
   "id": "d48485ff",
   "metadata": {},
   "outputs": [],
   "source": [
    "# Question 3\n"
   ]
  },
  {
   "cell_type": "code",
   "execution_count": 15,
   "id": "f9880c06",
   "metadata": {},
   "outputs": [],
   "source": [
    "import pandas as pd"
   ]
  },
  {
   "cell_type": "code",
   "execution_count": 16,
   "id": "a063725a",
   "metadata": {},
   "outputs": [],
   "source": [
    "# 1. DF of 10 names with their subjects\n",
    "np.random.seed(2)\n",
    "names = ['Alice', 'Bob', 'Charlie', 'David', 'Eva', 'Frank', 'Grace', 'Helen', 'Ivan', 'Judy']\n",
    "subjects = ['Math', 'Science', 'English', 'Math', 'Science', 'English', 'Math', 'Science', 'English', 'Math']\n",
    "scores = np.random.randint(50, 101, size=10)\n",
    "\n",
    "df = pd.DataFrame({\n",
    "    'Name': names,\n",
    "    'Subject': subjects,\n",
    "    'Score': scores,\n",
    "    'Grade': ''  \n",
    "})"
   ]
  },
  {
   "cell_type": "code",
   "execution_count": 17,
   "id": "3720c1c8",
   "metadata": {},
   "outputs": [],
   "source": [
    "# 2. Grades based on the marks/scores\n",
    "def assign_grade(score):\n",
    "    if score >= 90:\n",
    "        return 'A'\n",
    "    elif score >= 80:\n",
    "        return 'B'\n",
    "    elif score >= 70:\n",
    "        return 'C'\n",
    "    elif score >= 60:\n",
    "        return 'D'\n",
    "    else:\n",
    "        return 'F'\n",
    "\n",
    "df['Grade'] = df['Score'].apply(assign_grade)"
   ]
  },
  {
   "cell_type": "code",
   "execution_count": 18,
   "id": "816f0155",
   "metadata": {},
   "outputs": [
    {
     "name": "stdout",
     "output_type": "stream",
     "text": [
      "Sorted DataFrame by Score:\n",
      "       Name  Subject  Score Grade\n",
      "2  Charlie  English     95     A\n",
      "5    Frank  English     93     A\n",
      "0    Alice     Math     90     A\n",
      "8     Ivan  English     90     A\n",
      "4      Eva  Science     72     C\n",
      "6    Grace     Math     68     D\n",
      "1      Bob  Science     65     D\n",
      "7    Helen  Science     61     D\n",
      "3    David     Math     58     F\n",
      "9     Judy     Math     57     F\n"
     ]
    }
   ],
   "source": [
    "# 3. DF stored in descending\n",
    "sorted_df = df.sort_values(by='Score', ascending=False)\n",
    "print(\"Sorted DataFrame by Score:\\n\", sorted_df)"
   ]
  },
  {
   "cell_type": "code",
   "execution_count": 19,
   "id": "c41a8214",
   "metadata": {},
   "outputs": [
    {
     "name": "stdout",
     "output_type": "stream",
     "text": [
      "\n",
      "Average score per subject:\n",
      " Subject\n",
      "English    92.666667\n",
      "Math       68.250000\n",
      "Science    66.000000\n",
      "Name: Score, dtype: float64\n"
     ]
    }
   ],
   "source": [
    "# 4. Average score of subject\n",
    "avg_scores = df.groupby('Subject')['Score'].mean()\n",
    "print(\"\\nAverage score per subject:\\n\", avg_scores)"
   ]
  },
  {
   "cell_type": "code",
   "execution_count": 20,
   "id": "8f018e9e",
   "metadata": {
    "scrolled": false
   },
   "outputs": [
    {
     "name": "stdout",
     "output_type": "stream",
     "text": [
      "\n",
      "Students with Grade A or B:\n",
      "       Name  Subject  Score Grade\n",
      "0    Alice     Math     90     A\n",
      "2  Charlie  English     95     A\n",
      "5    Frank  English     93     A\n",
      "8     Ivan  English     90     A\n"
     ]
    }
   ],
   "source": [
    "# 5. Records of Grade A and B\n",
    "def pandas_filter_pass(dataframe):\n",
    "    return dataframe[dataframe['Grade'].isin(['A', 'B'])]\n",
    "\n",
    "filtered_df = pandas_filter_pass(df)\n",
    "print(\"\\nStudents with Grade A or B:\\n\", filtered_df)"
   ]
  },
  {
   "cell_type": "code",
   "execution_count": 21,
   "id": "ba10b191",
   "metadata": {},
   "outputs": [],
   "source": [
    "# Question 4"
   ]
  },
  {
   "cell_type": "code",
   "execution_count": 22,
   "id": "df477886",
   "metadata": {},
   "outputs": [],
   "source": [
    "from sklearn.feature_extraction.text import CountVectorizer\n",
    "from sklearn.model_selection import train_test_split\n",
    "from sklearn.naive_bayes import MultinomialNB\n",
    "from sklearn.metrics import accuracy_score\n",
    "\n",
    "positive_reviews = [\n",
    "    \"I loved the movie, it was fantastic!\",\n",
    "    \"An excellent performance by the lead actor.\",\n",
    "    \"A truly uplifting and heartwarming story.\",\n",
    "    \"This film was a masterpiece, highly recommended.\",\n",
    "    \"A brilliant screenplay and beautiful direction.\",\n",
    "    \"Amazing visuals and great storytelling.\",\n",
    "    \"Loved every moment of the film.\",\n",
    "    \"One of the best movies I've seen this year.\",\n",
    "    \"Outstanding! Will watch again.\",\n",
    "    \"A delightful movie experience.\",\n",
    "] * 5  \n",
    "\n",
    "negative_reviews = [\n",
    "    \"I hated the movie, it was terrible.\",\n",
    "    \"The acting was awful and the story was boring.\",\n",
    "    \"Complete waste of time.\",\n",
    "    \"Poorly written and badly directed.\",\n",
    "    \"The movie was dull and uninspired.\",\n",
    "    \"I couldn't finish the movie, it was so bad.\",\n",
    "    \"Terrible plot and weak characters.\",\n",
    "    \"Nothing interesting happened.\",\n",
    "    \"I regret watching this film.\",\n",
    "    \"Boring and disappointing.\",\n",
    "] * 5  \n",
    "\n",
    "reviews = positive_reviews + negative_reviews\n",
    "sentiments = ['positive'] * 50 + ['negative'] * 50\n",
    "\n",
    "df = pd.DataFrame({'Review': reviews, 'Sentiment': sentiments})\n"
   ]
  },
  {
   "cell_type": "code",
   "execution_count": 23,
   "id": "80747e7c",
   "metadata": {},
   "outputs": [],
   "source": [
    "# 2.  CountVectorizer\n",
    "vectorizer = CountVectorizer(max_features=500, stop_words='english')\n",
    "X = vectorizer.fit_transform(df['Review'])\n",
    "y = df['Sentiment']"
   ]
  },
  {
   "cell_type": "code",
   "execution_count": 24,
   "id": "bc5e2740",
   "metadata": {},
   "outputs": [],
   "source": [
    "# 3. Traning-80% and testing-20%\n",
    "X_train, X_test, y_train, y_test = train_test_split(X, y, test_size=0.2, random_state=42)"
   ]
  },
  {
   "cell_type": "code",
   "execution_count": 25,
   "id": "46164d94",
   "metadata": {},
   "outputs": [
    {
     "name": "stdout",
     "output_type": "stream",
     "text": [
      "Test Accuracy: 100.0 %\n"
     ]
    }
   ],
   "source": [
    "# 4.  Multinomial Naive Bayes classifier\n",
    "model = MultinomialNB()\n",
    "model.fit(X_train, y_train)\n",
    "\n",
    "# Predict and print accuracy\n",
    "y_pred = model.predict(X_test)\n",
    "accuracy = accuracy_score(y_test, y_pred)\n",
    "print(\"Test Accuracy:\", round(accuracy * 100, 2), \"%\")"
   ]
  },
  {
   "cell_type": "code",
   "execution_count": 26,
   "id": "b6d3a5df",
   "metadata": {},
   "outputs": [
    {
     "name": "stdout",
     "output_type": "stream",
     "text": [
      "\n",
      "Sample Review Prediction: negative\n"
     ]
    }
   ],
   "source": [
    "# 5 Prediction Function\n",
    "def predict_review_sentiment(model, vectorizer, review):\n",
    "    review_vector = vectorizer.transform([review])\n",
    "    prediction = model.predict(review_vector)[0]\n",
    "    return prediction\n",
    "\n",
    "\n",
    "sample_review = \"The movie was breathtaking and full of emotion!\"\n",
    "predicted_sentiment = predict_review_sentiment(model, vectorizer, sample_review)\n",
    "print(\"\\nSample Review Prediction:\", predicted_sentiment)"
   ]
  },
  {
   "cell_type": "code",
   "execution_count": 27,
   "id": "b5d7614e",
   "metadata": {},
   "outputs": [],
   "source": [
    "# Question 5\n"
   ]
  },
  {
   "cell_type": "code",
   "execution_count": 28,
   "id": "744d82c2",
   "metadata": {},
   "outputs": [
    {
     "name": "stdout",
     "output_type": "stream",
     "text": [
      "\n",
      "Sample Review Prediction: Sentiment: negative, Probabilities: {'negative': 0.678, 'positive': 0.322}\n"
     ]
    }
   ],
   "source": [
    "def predict_review_sentiment(model, vectorizer, review, show_prob=False):\n",
    "    if not isinstance(review, str) or len(review.strip()) == 0:\n",
    "        return \"Invalid input: Review must be a non-empty string.\"\n",
    "\n",
    "    review_vector = vectorizer.transform([review])\n",
    "    prediction = model.predict(review_vector)[0]\n",
    "\n",
    "    if show_prob:\n",
    "        prob = model.predict_proba(review_vector)[0]\n",
    "        return f\"Sentiment: {prediction}, Probabilities: {dict(zip(model.classes_, prob.round(3)))}\"\n",
    "    \n",
    "    return prediction\n",
    "\n",
    "\n",
    "sample_review = \"The movie was breathtaking and full of emotion!\"\n",
    "predicted_sentiment = predict_review_sentiment(model, vectorizer, sample_review, show_prob=True)\n",
    "print(\"\\nSample Review Prediction:\", predicted_sentiment)\n"
   ]
  },
  {
   "cell_type": "code",
   "execution_count": null,
   "id": "140f31fd",
   "metadata": {},
   "outputs": [],
   "source": []
  },
  {
   "cell_type": "code",
   "execution_count": null,
   "id": "8cc56b59",
   "metadata": {},
   "outputs": [],
   "source": []
  },
  {
   "cell_type": "code",
   "execution_count": null,
   "id": "b75f4704",
   "metadata": {},
   "outputs": [],
   "source": []
  },
  {
   "cell_type": "code",
   "execution_count": null,
   "id": "77197961",
   "metadata": {},
   "outputs": [],
   "source": []
  },
  {
   "cell_type": "code",
   "execution_count": null,
   "id": "8f329d2a",
   "metadata": {},
   "outputs": [],
   "source": []
  },
  {
   "cell_type": "code",
   "execution_count": null,
   "id": "ba0e6ff5",
   "metadata": {},
   "outputs": [],
   "source": []
  }
 ],
 "metadata": {
  "kernelspec": {
   "display_name": "Python 3 (ipykernel)",
   "language": "python",
   "name": "python3"
  },
  "language_info": {
   "codemirror_mode": {
    "name": "ipython",
    "version": 3
   },
   "file_extension": ".py",
   "mimetype": "text/x-python",
   "name": "python",
   "nbconvert_exporter": "python",
   "pygments_lexer": "ipython3",
   "version": "3.11.3"
  }
 },
 "nbformat": 4,
 "nbformat_minor": 5
}
